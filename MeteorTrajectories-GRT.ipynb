{
 "cells": [
  {
   "cell_type": "markdown",
   "metadata": {},
   "source": [
    "# Predicting Meteoroid Conditions"
   ]
  },
  {
   "cell_type": "markdown",
   "metadata": {},
   "source": [
    "## Preliminar"
   ]
  },
  {
   "cell_type": "markdown",
   "metadata": {},
   "source": [
    "### Modules"
   ]
  },
  {
   "cell_type": "code",
   "execution_count": 1,
   "metadata": {},
   "outputs": [],
   "source": [
    "import numpy as np\n",
    "from matplotlib import pyplot as plt\n",
    "import pandas as pd\n",
    "from scipy.optimize import minimize\n",
    "from scipy.interpolate import interp1d as interpolate\n",
    "from scipy.integrate import quad as integrate\n",
    "import statistics as stats\n",
    "import spiceypy as spy\n",
    "from copy import deepcopy\n",
    "from mpl_toolkits.basemap import Basemap as Map,shiftgrid as Grid\n",
    "from tqdm import tqdm\n",
    "%matplotlib nbagg\n",
    "\n",
    "#Routines\n",
    "def ipercs(xs,ps,qpercs):\n",
    "    \"\"\"\n",
    "    Compute percentiles from a numerical normalized distribution ps\n",
    "    \"\"\"\n",
    "    Ps=np.array([ps[:i].sum() for i in range(len(ps))])\n",
    "    fi=interpolate(Ps,xs)\n",
    "    return fi(np.array(qpercs)/100.0)\n",
    "\n",
    "#Routines to convert from local to body systems and viceversa\n",
    "def loc2rec(vp,distance,Az,h):\n",
    "    \"\"\"\n",
    "    Convert distance, azimuth and elevation to position w.r.t. Earth\n",
    "    vp (dictionary): Vantage point.  It should have: lon, lat, alt\n",
    "    distance: km\n",
    "    Az: deg\n",
    "    h: deg\n",
    "    \"\"\"\n",
    "    rlocal=spy.latrec(distance,Az*DEG,h*DEG)\n",
    "    rpos=spy.mxv(vp[\"l2b\"],rlocal)+vp[\"geopos\"]\n",
    "    return rpos\n",
    "\n",
    "\n",
    "def rec2loc(vp,rpos):\n",
    "    \"\"\"\n",
    "    Convert position w.r.t. Earth to distance, Azimuth and elevation\n",
    "    distance: km\n",
    "    Az: deg\n",
    "    h: deg\n",
    "    \"\"\"\n",
    "    rrel=rpos-vp[\"geopos\"]\n",
    "    rlocal=spy.mxv(vp[\"b2l\"],rrel)\n",
    "    distance,Az,h=spy.reclat(rlocal)\n",
    "    Az=2*np.pi+Az if Az<0 else Az\n",
    "    return distance,Az*RAD,h*RAD\n",
    "\n",
    "def updateVantagePoint(vp):\n",
    "    \"\"\"\n",
    "    Compute related geometrical properties of a vantage point\n",
    "    \"\"\"\n",
    "    vp[\"geopos\"]=spy.georec(vp[\"lon\"]*DEG,vp[\"lat\"]*DEG,vp[\"alt\"],RE,F)\n",
    "    normal=spy.surfnm(RE,RE,RP,vp[\"geopos\"])\n",
    "    uy=spy.ucrss(np.array([0,0,1]),normal)\n",
    "    ux=spy.ucrss(normal,uy)\n",
    "    vp[\"l2b\"]=np.array(np.vstack((ux,uy,normal)).transpose().tolist())\n",
    "    vp[\"b2l\"]=np.linalg.inv(vp[\"l2b\"])"
   ]
  },
  {
   "cell_type": "markdown",
   "metadata": {},
   "source": [
    "### SPICE specifics"
   ]
  },
  {
   "cell_type": "code",
   "execution_count": 2,
   "metadata": {},
   "outputs": [],
   "source": [
    "BDIR=\"./\"\n",
    "spy.furnsh(BDIR+\"kernels/de430.bsp\")\n",
    "spy.furnsh(BDIR+\"kernels/naif0012.tls\")\n",
    "spy.furnsh(BDIR+\"kernels/pck00010.tpc\")\n",
    "spy.furnsh(BDIR+\"kernels/earth_070425_370426_predict.bpc\")\n",
    "spy.furnsh(BDIR+\"kernels/earth_assoc_itrf93.tf\")\n",
    "#Astronomical constants\n",
    "n,rs=spy.bodvrd(\"EARTH\",\"RADII\",3)\n",
    "RE=rs[0];RP=rs[2]\n",
    "F=(RE-RP)/RE"
   ]
  },
  {
   "cell_type": "markdown",
   "metadata": {},
   "source": [
    "### Macro and Constants"
   ]
  },
  {
   "cell_type": "code",
   "execution_count": 3,
   "metadata": {},
   "outputs": [],
   "source": [
    "#Constants\n",
    "\n",
    "#Cuba event\n",
    "#\"\"\"\n",
    "#IMPACT_DATA=\"grt-20190201181700-C033D9\"\n",
    "IMPACT_DATA=\"grt-Cuba-20190201181700-D60440\"\n",
    "IMPACT_SUFFIX=\"lat_2.27870e+01__lon_-8.37324e+01\"\n",
    "IMPACT_NAME=\"Cuba\"\n",
    "IMPACT_DATETIME=\"02/01/2019 18:17:00 UTC\"\n",
    "IMPACT_ET=spy.str2et(IMPACT_DATETIME)\n",
    "IMPACT_CONDITIONS=dict(\n",
    "    h=33,dh=0.7,\n",
    "    Az=179,dAz=2,\n",
    "    vimp=18.00,dvimp=0.5,\n",
    "    a = 1.32, da = 0.062,\n",
    "    q = 0.75, dq = 0.018,\n",
    "    e = 0.44, de = 0.023,\n",
    "    i = 11.68, di = 0.39,\n",
    "    W = 132.54, dW = 0.0033,\n",
    "    o = 283.77, do = 4.1,\n",
    "    P = 1.52, dP = 0.11,\n",
    "    Tp = 2.78, dTp = 0.02,\n",
    ")\n",
    "#\"\"\"\n",
    "\n",
    "#Chelyabinsk\n",
    "\"\"\"\n",
    "#IMPACT_DATA=\"grt-general-20130215032034-6F5A97\"\n",
    "IMPACT_DATA=\"grt-Chelyabinsk-20130215032034-979193\"\n",
    "IMPACT_SUFFIX=\"lat_5.44000e+01__lon_6.35000e+01\"\n",
    "IMPACT_NAME=\"Chelyabinsk\"\n",
    "IMPACT_DATETIME=\"02/15/2013 3:20:34 UTC\"\n",
    "IMPACT_ET=spy.str2et(IMPACT_DATETIME)\n",
    "IMPACT_CONDITIONS=dict(\n",
    "    #Local\n",
    "    h=18.55,dh=0,\n",
    "    Az=103.5,dAz=0,\n",
    "    vimp=19.03,dvimp=0,\n",
    "    #Orbitla Elements\n",
    "    q=0.738,dq=0,\n",
    "    a=1.72,da=0,\n",
    "    e=0.571,de=0,\n",
    "    i=4.98,di=0,\n",
    "    W=326.459,dW=0,\n",
    "    o=107.67,do=0,\n",
    ")\n",
    "#\"\"\"\n",
    "\n",
    "#Directories\n",
    "FIGDIR=BDIR+\"figures/\"\n",
    "\n",
    "#Macros\n",
    "norm=np.linalg.norm\n",
    "DEG=np.pi/180\n",
    "RAD=1/DEG"
   ]
  },
  {
   "cell_type": "markdown",
   "metadata": {},
   "source": [
    "## GRT Analysis"
   ]
  },
  {
   "cell_type": "markdown",
   "metadata": {},
   "source": [
    "### Read data"
   ]
  },
  {
   "cell_type": "code",
   "execution_count": 4,
   "metadata": {},
   "outputs": [
    {
     "name": "stdout",
     "output_type": "stream",
     "text": [
      "Number of test trajectories read: 38432\n"
     ]
    }
   ],
   "source": [
    "data_rays=np.loadtxt(BDIR+f\"data/{IMPACT_DATA}/rays-{IMPACT_SUFFIX}.data.phys\")\n",
    "data_rays_prob=np.loadtxt(BDIR+f\"data/{IMPACT_DATA}/rays-{IMPACT_SUFFIX}.data.prob\")\n",
    "orden=data_rays_prob[:,7].argsort()[::-1]\n",
    "aes=data_rays[:,9]/(1-data_rays[:,10])\n",
    "Nrays=len(data_rays)\n",
    "data_rays=np.append(data_rays,aes.reshape(Nrays,1),axis=1)\n",
    "print(f\"Number of test trajectories read: {Nrays}\")"
   ]
  },
  {
   "cell_type": "markdown",
   "metadata": {},
   "source": [
    "### Marginal distributions"
   ]
  },
  {
   "cell_type": "markdown",
   "metadata": {},
   "source": [
    "#### Compute marginal histograms"
   ]
  },
  {
   "cell_type": "code",
   "execution_count": 5,
   "metadata": {},
   "outputs": [],
   "source": [
    "properties=dict(\n",
    "    h=dict(indice=0,property=\"h\",factor=30,units='deg',latex=r\"h\",range=(None,None),error=True),\n",
    "    vimp=dict(indice=2,property=\"vimp\",factor=3,units='deg',latex=r\"v_{\\rm imp}\",range=(None,None),error=True),\n",
    "    Az=dict(indice=1,property=\"Az\",factor=30,units='deg',latex=r\"A\",range=(0.0,360.0),error=False),\n",
    "    a=dict(indice=16,property=\"a\",factor=1000,units='AU',latex=r\"a\",range=(0.5,2.5),error=True),\n",
    "    q=dict(indice=9,property=\"q\",factor=1000,units='AU',latex=r\"q\",range=(0.5,1.1),error=True),\n",
    "    e=dict(indice=10,property=\"e\",factor=1000,units='deg',latex=r\"e\",range=(0.0,1.0),error=True),\n",
    "    i=dict(indice=11,property=\"i\",factor=1000,units='deg',latex=r\"i\",range=(0.0,20.0),error=False),\n",
    "    W=dict(indice=12,property=\"W\",factor=1000,units='deg',latex=r\"\\Omega\",range=(0.0,360.0),error=False),\n",
    "    o=dict(indice=13,property=\"o\",factor=1000,units='deg',latex=r\"\\omega\",range=(0.0,360.0),error=False)\n",
    ")"
   ]
  },
  {
   "cell_type": "code",
   "execution_count": 6,
   "metadata": {},
   "outputs": [
    {
     "name": "stdout",
     "output_type": "stream",
     "text": [
      "Computed rays: 38432\n",
      "Computing ppd for h\n",
      "\tUnique values of property: 498\n",
      "\tRanges: 0.27798 83.332\n",
      "\tSampling points: 16\n",
      "\tSaving ./data/h-marginal-Cuba.dat\n",
      "Computing ppd for vimp\n",
      "\tUnique values of property: 100\n",
      "\tRanges: 11.471 43.039\n",
      "\tSampling points: 33\n",
      "\tSaving ./data/vimp-marginal-Cuba.dat\n",
      "Computing ppd for Az\n",
      "\tUnique values of property: 498\n",
      "\tRanges: 0.27282 359.06\n",
      "\tSampling points: 16\n",
      "\tSaving ./data/Az-marginal-Cuba.dat\n",
      "Computing ppd for a\n",
      "\tUnique values of property: 31106\n",
      "\tRanges: 0.5317475410929965 2.4999006627315783\n",
      "\tSampling points: 31\n",
      "\tSaving ./data/a-marginal-Cuba.dat\n",
      "Computing ppd for q\n",
      "\tUnique values of property: 29167\n",
      "\tRanges: 0.5000118981138796 1.0029277955300635\n",
      "\tSampling points: 29\n",
      "\tSaving ./data/q-marginal-Cuba.dat\n",
      "Computing ppd for e\n",
      "\tUnique values of property: 38432\n",
      "\tRanges: 0.003874320342935637 0.9939379318396011\n",
      "\tSampling points: 38\n",
      "\tSaving ./data/e-marginal-Cuba.dat\n",
      "Computing ppd for i\n",
      "\tUnique values of property: 29276\n",
      "\tRanges: 0.00022667234309423513 19.999497620999854\n",
      "\tSampling points: 29\n",
      "\tSaving ./data/i-marginal-Cuba.dat\n",
      "Computing ppd for W\n",
      "\tUnique values of property: 38432\n",
      "\tRanges: 26.279290010481436 359.02544652909904\n",
      "\tSampling points: 38\n",
      "\tSaving ./data/W-marginal-Cuba.dat\n",
      "Computing ppd for o\n",
      "\tUnique values of property: 38432\n",
      "\tRanges: 0.003340326393160988 359.99512669227437\n",
      "\tSampling points: 38\n",
      "\tSaving ./data/o-marginal-Cuba.dat\n"
     ]
    }
   ],
   "source": [
    "pprob=data_rays_prob[:,7]\n",
    "print(\"Computed rays:\",len(pprob))\n",
    "for key,qprop in properties.items():\n",
    "    #qprop=properties[-2]\n",
    "    print(f\"Computing ppd for {qprop['property']}\")\n",
    "    rang=qprop[\"range\"]\n",
    "    if rang[0] is None:qrange=0\n",
    "    else:qrange=1\n",
    "          \n",
    "    xs=data_rays[:,qprop[\"indice\"]]\n",
    "    if qrange:cond=(xs>=rang[0])*(xs<=rang[1])\n",
    "    else:cond=(xs>-1e100)\n",
    "    xs=xs[cond]\n",
    "        \n",
    "    xun=np.unique(xs)\n",
    "    Nun=len(xun)\n",
    "    print(\"\\tUnique values of property:\",Nun)\n",
    "\n",
    "    # Range of elevations                                                                                                                                                                                                                                     \n",
    "    xmin=xs.min()\n",
    "    xmax=xs.max()\n",
    "    print(\"\\tRanges:\",xmin,xmax)\n",
    "\n",
    "    # Create boxes                                                                                                                                                                                                                                            \n",
    "    Nb=int(Nun/qprop[\"factor\"])\n",
    "    print(\"\\tSampling points:\",Nb)\n",
    "    xb=np.linspace(xmin,1.01*xmax,Nb,endpoint=False)\n",
    "    dxb=xb[1]-xb[0]\n",
    "\n",
    "    # Compute probabilities                                                                                                                                                                                                                                   \n",
    "    P=0\n",
    "    hb=np.zeros(Nb)\n",
    "    for i,x in enumerate(xs):\n",
    "        p=pprob[i]\n",
    "        P+=p\n",
    "        n=int((x-xmin)/dxb)\n",
    "        hb[n]+=p\n",
    "\n",
    "    hb=np.array(hb)\n",
    "    hb/=P\n",
    "\n",
    "    #Save histogram\n",
    "    fname=BDIR+f\"data/{qprop['property']}-marginal-{IMPACT_NAME}.dat\"\n",
    "    print(f\"\\tSaving {fname}\")\n",
    "    np.savetxt(fname,np.vstack((xb,hb)).transpose())\n",
    "    #break"
   ]
  },
  {
   "cell_type": "markdown",
   "metadata": {},
   "source": [
    "#### Plot marginal histograms"
   ]
  },
  {
   "cell_type": "code",
   "execution_count": 7,
   "metadata": {},
   "outputs": [
    {
     "data": {
      "image/png": "[encoded data removed]",
      "text/plain": [
       "<matplotlib.figure.Figure at 0x18272812b0>"
      ]
     },
     "metadata": {
      "needs_background": "light"
     },
     "output_type": "display_data"
    },
    {
     "data": {
      "image/png": "[encoded data removed]",
      "text/plain": [
       "<matplotlib.figure.Figure at 0x182629d240>"
      ]
     },
     "metadata": {
      "needs_background": "light"
     },
     "output_type": "display_data"
    },
    {
     "data": {
      "image/png": "[encoded data removed]",
      "text/plain": [
       "<matplotlib.figure.Figure at 0x182780a6d8>"
      ]
     },
     "metadata": {
      "needs_background": "light"
     },
     "output_type": "display_data"
    },
    {
     "data": {
      "image/png": "[encoded data removed]",
      "text/plain": [
       "<matplotlib.figure.Figure at 0x1826193470>"
      ]
     },
     "metadata": {
      "needs_background": "light"
     },
     "output_type": "display_data"
    },
    {
     "data": {
      "image/png": "[encoded data removed]",
      "text/plain": [
       "<matplotlib.figure.Figure at 0x18271ebe80>"
      ]
     },
     "metadata": {
      "needs_background": "light"
     },
     "output_type": "display_data"
    },
    {
     "data": {
      "image/png": "[encoded data removed]",
      "text/plain": [
       "<matplotlib.figure.Figure at 0x18263bc780>"
      ]
     },
     "metadata": {
      "needs_background": "light"
     },
     "output_type": "display_data"
    },
    {
     "data": {
      "image/png": "[encoded data removed]",
      "text/plain": [
       "<matplotlib.figure.Figure at 0x1826bfcbe0>"
      ]
     },
     "metadata": {
      "needs_background": "light"
     },
     "output_type": "display_data"
    },
    {
     "data": {
      "image/png": "[encoded data removed]",
      "text/plain": [
       "<matplotlib.figure.Figure at 0x18261935f8>"
      ]
     },
     "metadata": {
      "needs_background": "light"
     },
     "output_type": "display_data"
    },
    {
     "data": {
      "image/png": "[encoded data removed]",
      "text/plain": [
       "<matplotlib.figure.Figure at 0x1827222cc0>"
      ]
     },
     "metadata": {
      "needs_background": "light"
     },
     "output_type": "display_data"
    }
   ],
   "source": [
    "for key,qprop in properties.items():\n",
    "    #qprop=properties[-1]\n",
    "    prop=qprop['property']\n",
    "    latex=qprop['latex']\n",
    "    \n",
    "    #Marginal distribution\n",
    "    data=np.loadtxt(BDIR+f\"data/{prop}-marginal-{IMPACT_NAME}.dat\")\n",
    "    vs=data[:,0]\n",
    "    ps=data[:,1]\n",
    "\n",
    "    v1,vm,v2=ipercs(vs,ps,[15.0,50.0,85.0])\n",
    "    mv=vm-v1;pv=v2-vm\n",
    "\n",
    "    #Plot\n",
    "    fig=plt.figure()\n",
    "    ax=fig.gca()\n",
    "    ax.step(vs,ps,color='r',lw=2)\n",
    "    \n",
    "    ax.set_xlabel(r\"$%s$\"%latex,fontsize=14)\n",
    "    ax.set_ylabel(r\"$p(%s)$\"%latex,fontsize=14)\n",
    "\n",
    "    ax.set_yticks([])\n",
    "    \n",
    "    if qprop[\"error\"]:\n",
    "        ax.axvspan(v1,vm,color='k',alpha=0.3)\n",
    "        ax.axvline(vm,color='k',lw=2)\n",
    "        ax.axvspan(vm,v2,color='k',alpha=0.3)\n",
    "        ax.text(0.95,0.95,r\"$%s=%.1lf^{+%.1lf}_{-%.1lf}$ km/s\"%(latex,vm,pv,mv),\n",
    "                transform=ax.transAxes,ha='right',va='top',fontsize=14)\n",
    "\n",
    "    ax.axvline(IMPACT_CONDITIONS[prop],ls='--',color='b')\n",
    "    ax.axvspan(IMPACT_CONDITIONS[prop]-IMPACT_CONDITIONS[\"d\"+prop],\n",
    "               IMPACT_CONDITIONS[prop]+IMPACT_CONDITIONS[\"d\"+prop],color='b',alpha=0.2)\n",
    "    ax.text(IMPACT_CONDITIONS[prop]-IMPACT_CONDITIONS[\"d\"+prop],ps.max()/2,IMPACT_NAME,rotation=90,ha='right',va='center',color='b')\n",
    "\n",
    "    ymin,ymax=ax.get_ylim()\n",
    "    ax.set_ylim((0,ymax))\n",
    "    \n",
    "    if not qprop['range'][0] is None:\n",
    "        ax.set_xlim(qprop['range'])\n",
    "        \n",
    "\n",
    "    fig.tight_layout()\n",
    "    fig.savefig(FIGDIR+f\"{prop}-ppd-{IMPACT_NAME}.png\")\n",
    "    #break"
   ]
  },
  {
   "cell_type": "markdown",
   "metadata": {},
   "source": [
    "### 2-D Histograms"
   ]
  },
  {
   "cell_type": "markdown",
   "metadata": {},
   "source": [
    "#### Properties and combinations"
   ]
  },
  {
   "cell_type": "code",
   "execution_count": 8,
   "metadata": {},
   "outputs": [],
   "source": [
    "#Properties\n",
    "props=dict(\n",
    "    h=dict(n=0,min=0.0,max=90.0,N=10),\n",
    "    Az=dict(n=1,min=0.0,max=360.0,N=10),\n",
    "    a=dict(n=16,min=0.5,max=2.0,N=10),\n",
    "    q=dict(n=9,min=0.5,max=1.1,N=10),\n",
    "    e=dict(n=10,min=0.0,max=1.0,N=10),\n",
    "    i=dict(n=11,min=0.0,max=+20.0,N=10),\n",
    "    W=dict(n=12,min=0.0,max=360.0,N=10),\n",
    "    o=dict(n=13,min=0.0,max=360.0,N=10),\n",
    ")\n",
    "\n",
    "#Delta in properties\n",
    "for key,prop in props.items():\n",
    "    prop[\"del\"]=(prop[\"max\"]-prop[\"min\"])/prop[\"N\"]\n",
    "\n",
    "#Propeties combination\n",
    "combs=dict(\n",
    "    Azh=dict(\n",
    "        p1=\"Az\",\n",
    "        p2=\"h\"\n",
    "    ),\n",
    "    ae=dict(\n",
    "        p1=\"a\",\n",
    "        p2=\"e\"\n",
    "    ),\n",
    "    qe=dict(\n",
    "        p1=\"q\",\n",
    "        p2=\"e\"\n",
    "    ),\n",
    "    ie=dict(\n",
    "        p1=\"i\",\n",
    "        p2=\"e\"\n",
    "    ),\n",
    "    Wo=dict(\n",
    "        p1=\"W\",\n",
    "        p2=\"o\"\n",
    "    ),\n",
    ")\n",
    "\n",
    "#Histograms initialization\n",
    "for key,comb in combs.items():\n",
    "    comb[\"his\"]=np.zeros((props[comb[\"p2\"]][\"N\"],props[comb[\"p1\"]][\"N\"]))"
   ]
  },
  {
   "cell_type": "markdown",
   "metadata": {},
   "source": [
    "#### Compute histograms"
   ]
  },
  {
   "cell_type": "code",
   "execution_count": 9,
   "metadata": {},
   "outputs": [
    {
     "name": "stderr",
     "output_type": "stream",
     "text": [
      "Azh: 100%|██████████| 38432/38432 [00:00<00:00, 49766.92it/s]\n",
      "ae: 100%|██████████| 38432/38432 [00:00<00:00, 66059.34it/s]\n",
      "qe: 100%|██████████| 38432/38432 [00:00<00:00, 82937.50it/s]\n",
      "ie: 100%|██████████| 38432/38432 [00:00<00:00, 57771.81it/s]\n",
      "Wo: 100%|██████████| 38432/38432 [00:00<00:00, 39256.78it/s]\n"
     ]
    }
   ],
   "source": [
    "for key,comb in combs.items():\n",
    "\n",
    "    #Properties\n",
    "    prop1=props[comb[\"p1\"]]\n",
    "    prop2=props[comb[\"p2\"]]\n",
    "\n",
    "    #Initialize\n",
    "    j=0\n",
    "    P=0\n",
    "    for i in tqdm(range(len(data_rays)),desc=key):\n",
    "\n",
    "        #Propety values \n",
    "        p1=data_rays[i,prop1[\"n\"]]\n",
    "        p2=data_rays[i,prop2[\"n\"]]\n",
    "        p=data_rays_prob[i,7]\n",
    "\n",
    "        #Position in the histogram\n",
    "        np1=int((p1-prop1[\"min\"])/prop1[\"del\"])\n",
    "        np2=int((p2-prop2[\"min\"])/prop2[\"del\"])\n",
    "\n",
    "        #Skip values beyond limits\n",
    "        if np1>=prop1[\"N\"] or np2>=prop2[\"N\"]:continue\n",
    "        comb[\"his\"][np2,np1]+=p\n",
    "        P+=p\n",
    "        j+=1\n",
    "    comb[\"his\"]/=P"
   ]
  },
  {
   "cell_type": "markdown",
   "metadata": {},
   "source": [
    "#### Plot histograms"
   ]
  },
  {
   "cell_type": "code",
   "execution_count": 10,
   "metadata": {},
   "outputs": [
    {
     "name": "stdout",
     "output_type": "stream",
     "text": [
      "Saving ./figures/Azh-Cuba.png\n",
      "Saving ./figures/ae-Cuba.png\n",
      "Saving ./figures/qe-Cuba.png\n",
      "Saving ./figures/ie-Cuba.png\n",
      "Saving ./figures/Wo-Cuba.png\n"
     ]
    },
    {
     "data": {
      "image/png": "[encoded data removed]",
      "text/plain": [
       "<matplotlib.figure.Figure at 0x18271b2710>"
      ]
     },
     "metadata": {
      "needs_background": "light"
     },
     "output_type": "display_data"
    },
    {
     "data": {
      "image/png": "[encoded data removed]",
      "text/plain": [
       "<matplotlib.figure.Figure at 0x18263cec88>"
      ]
     },
     "metadata": {
      "needs_background": "light"
     },
     "output_type": "display_data"
    },
    {
     "data": {
      "image/png": "[encoded data removed]",
      "text/plain": [
       "<matplotlib.figure.Figure at 0x18261b3710>"
      ]
     },
     "metadata": {
      "needs_background": "light"
     },
     "output_type": "display_data"
    },
    {
     "data": {
      "image/png": "[encoded data removed]",
      "text/plain": [
       "<matplotlib.figure.Figure at 0x1828155278>"
      ]
     },
     "metadata": {
      "needs_background": "light"
     },
     "output_type": "display_data"
    },
    {
     "data": {
      "image/png": "[encoded data removed]",
      "text/plain": [
       "<matplotlib.figure.Figure at 0x1826d8e6a0>"
      ]
     },
     "metadata": {
      "needs_background": "light"
     },
     "output_type": "display_data"
    }
   ],
   "source": [
    "#Map\n",
    "#key=\"Ww\"\n",
    "#comb=combs[key]\n",
    "for key,comb in combs.items():\n",
    "    name1=properties[comb[\"p1\"]][\"latex\"]\n",
    "    name2=properties[comb[\"p2\"]][\"latex\"]\n",
    "    \n",
    "    prop1=props[comb[\"p1\"]]\n",
    "    prop2=props[comb[\"p2\"]]\n",
    "    P1s,P2s=np.meshgrid(np.arange(prop1[\"min\"],prop1[\"max\"],prop1[\"del\"]),\n",
    "                        np.arange(prop2[\"min\"],prop2[\"max\"],prop2[\"del\"]))\n",
    "    hmin=comb[\"his\"].min();hmax=comb[\"his\"].max()\n",
    "    \n",
    "    fig=plt.figure()\n",
    "    ax=fig.gca()\n",
    "\n",
    "    c=ax.contourf(P1s,P2s,comb[\"his\"],levels=np.linspace(hmin,hmax,10))\n",
    "    cbar=fig.colorbar(c)\n",
    "    #cbar.ax.set_ylabel('Fraction of Trajetcories',fontsize=12)\n",
    "\n",
    "    ax.plot([IMPACT_CONDITIONS[comb[\"p1\"]]],[IMPACT_CONDITIONS[comb[\"p2\"]]],'wo')\n",
    "    ax.text(IMPACT_CONDITIONS[comb[\"p1\"]],IMPACT_CONDITIONS[comb[\"p2\"]],\n",
    "            IMPACT_NAME,zorder=100,color='w',ha='right',va='bottom',rotation=90)\n",
    "\n",
    "    ytl=[]\n",
    "    for y in cbar.ax.get_yticks():\n",
    "        ytl+=[\"%.1f%%\"%((hmin+y*(hmax-hmin))*100)]\n",
    "    cbar.ax.set_yticklabels(ytl)\n",
    "\n",
    "    ax.set_xlabel(f\"${name1}$\")\n",
    "    ax.set_ylabel(f\"${name2}$\")\n",
    "    \n",
    "    ax.set_xlim((prop1[\"min\"],prop1[\"max\"]-prop1[\"del\"]))\n",
    "    ax.set_ylim((prop2[\"min\"],prop2[\"max\"]-prop2[\"del\"]))\n",
    "\n",
    "    fname=FIGDIR+f\"{key}-{IMPACT_NAME}.png\"\n",
    "    print(f\"Saving {fname}\")\n",
    "    fig.savefig(fname)"
   ]
  },
  {
   "cell_type": "markdown",
   "metadata": {},
   "source": [
    "### Tisserand parameters"
   ]
  },
  {
   "cell_type": "code",
   "execution_count": 11,
   "metadata": {},
   "outputs": [],
   "source": [
    "#Cuba event\n",
    "#\"\"\"\n",
    "Impacts=dict(\n",
    "    Cuba=dict(\n",
    "        IMPACT_DATA=\"grt-Cuba-20190201181700-D60440\",\n",
    "        IMPACT_SUFFIX=\"lat_2.27870e+01__lon_-8.37324e+01\",\n",
    "        IMPACT_NAME=\"Cuba\",\n",
    "        IMPACT_DATETIME=\"02/01/2019 18:17:00 UTC\",\n",
    "        IMPACT_ET=spy.str2et(IMPACT_DATETIME),\n",
    "        IMPACT_CONDITIONS=dict(\n",
    "            h=33.3,Az=179.0,vimp=18.11,\n",
    "            q=0.713925,a=1.31326017,e=0.456372,i=11.574326,W=132.532128,o=278.527160,\n",
    "        ),\n",
    "    ),\n",
    "    Chelyabinsk=dict(\n",
    "        #IMPACT_DATA=\"grt-general-20130215032034-6F5A97\",\n",
    "        IMPACT_DATA=\"grt-Chelyabinsk-20130215032034-979193\",\n",
    "        IMPACT_SUFFIX=\"lat_5.44000e+01__lon_6.35000e+01\",\n",
    "        IMPACT_NAME=\"Chelyabinsk\",\n",
    "        IMPACT_DATETIME=\"02/15/2013 3:20:34 UTC\",\n",
    "        IMPACT_ET=spy.str2et(IMPACT_DATETIME),\n",
    "        IMPACT_CONDITIONS=dict(\n",
    "            #Local\n",
    "            h=20.0,Az=100.0,vimp=19.3,\n",
    "            #Orbitla Elements\n",
    "            q=0.74,a=1.76,e=0.58,i=4.93,W=326.442,o=108.3\n",
    "        ),\n",
    "    ),\n",
    ")\n"
   ]
  },
  {
   "cell_type": "code",
   "execution_count": 12,
   "metadata": {},
   "outputs": [
    {
     "data": {
      "text/plain": [
       "2.7593472197609628"
      ]
     },
     "execution_count": 12,
     "metadata": {},
     "output_type": "execute_result"
    }
   ],
   "source": [
    "#Tisserand parameter\n",
    "site=\"Cuba\"\n",
    "q=Impacts[site][\"IMPACT_CONDITIONS\"][\"q\"]\n",
    "e=Impacts[site][\"IMPACT_CONDITIONS\"][\"e\"]\n",
    "i=Impacts[site][\"IMPACT_CONDITIONS\"][\"i\"]\n",
    "a=q/(1-e)\n",
    "Tp=1/a+2*np.cos(i*DEG)*np.sqrt(a*(1-e**2))\n",
    "Tp"
   ]
  },
  {
   "cell_type": "code",
   "execution_count": 13,
   "metadata": {},
   "outputs": [
    {
     "data": {
      "text/plain": [
       "2.722157960905861"
      ]
     },
     "execution_count": 13,
     "metadata": {},
     "output_type": "execute_result"
    }
   ],
   "source": [
    "#Tisserand parameter\n",
    "site=\"Chelyabinsk\"\n",
    "q=Impacts[site][\"IMPACT_CONDITIONS\"][\"q\"]\n",
    "e=Impacts[site][\"IMPACT_CONDITIONS\"][\"e\"]\n",
    "i=Impacts[site][\"IMPACT_CONDITIONS\"][\"i\"]\n",
    "a=q/(1-e)\n",
    "Tp=1/a+2*np.cos(i*DEG)*np.sqrt(a*(1-e**2))\n",
    "Tp"
   ]
  },
  {
   "cell_type": "code",
   "execution_count": null,
   "metadata": {},
   "outputs": [],
   "source": []
  }
 ],
 "metadata": {
  "kernelspec": {
   "display_name": "Python 3",
   "language": "python",
   "name": "python3"
  },
  "language_info": {
   "codemirror_mode": {
    "name": "ipython",
    "version": 3
   },
   "file_extension": ".py",
   "mimetype": "text/x-python",
   "name": "python",
   "nbconvert_exporter": "python",
   "pygments_lexer": "ipython3",
   "version": "3.6.0"
  }
 },
 "nbformat": 4,
 "nbformat_minor": 2
}
